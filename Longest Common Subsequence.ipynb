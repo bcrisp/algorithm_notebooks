{
 "cells": [
  {
   "cell_type": "markdown",
   "metadata": {},
   "source": [
    "# LCS\n",
    "\n",
    "The least common subsequence problem is a fundamental one in computer science. The problem statement is simple, if somewhat abstract: a common subsequence is the character orderings in two strings that may not be perfectly aligned.\n",
    "\n",
    "For instance, imagine I have string s1 = 1a2b3c and string s2 = 7a8b9c\n",
    "\n",
    "By deleting 1,2, and 3 from s1 and 7, 8, and 9 from s2 I have the longest common subsequence: abc.\n",
    "\n",
    "In most LCS tutorials, the two strings are provided first and the longest common subsequence is calculated from them. In this notebook we do something different; we start with the LCS string first, randomly obfuscate it, and then use the algorithm to rediscover it."
   ]
  },
  {
   "cell_type": "code",
   "execution_count": 38,
   "metadata": {},
   "outputs": [],
   "source": [
    "# Let's work backwards and generate our Longest Common Subsequence before we do anything else.\n",
    "# Feel free to change this value\n",
    "\n",
    "secret = \"I am the walrus\""
   ]
  },
  {
   "cell_type": "markdown",
   "metadata": {},
   "source": [
    "The opposite of removing non-matching characters from a string is adding non-matching characters from a string.\n",
    "Here we create a character range:"
   ]
  },
  {
   "cell_type": "code",
   "execution_count": 39,
   "metadata": {},
   "outputs": [
    {
     "name": "stdout",
     "output_type": "stream",
     "text": [
      "{'7', '(', ';', '>', ' ', '[', 'F', 'T', 'O', 'c', 'J', 'b', '*', 'i', '\\\\', 'e', 'A', ')', '0', 'N', '\\x1a', '\\x18', '.', 'S', '{', '/', 'o', 'n', '\\x15', 't', 'z', '3', 'Z', '2', 'y', '#', '1', '\\x1e', '9', 'd', 'p', '\\x17', '!', '+', '`', 'R', 'k', '\"', '-', '$', '\\x14', '\\x1b', '<', '4', 'G', 'j', 'B', 'I', '5', '?', ']', '\\x1d', 'v', '%', 'M', \"'\", 'X', '\\x19', 'q', 'u', '\\x16', 'D', 'f', 'W', '^', '@', '&', 'w', 'a', 'h', 'C', 'Q', 'Y', '\\x1f', '\\x1c', 'U', ',', 'm', 'K', '6', '_', 'H', 'L', 'V', 'r', '8', ':', 'E', 's', 'g', '|', 'x', '}', '=', 'P', 'l'}\n"
     ]
    }
   ],
   "source": [
    "charRange = set(map(lambda x: chr(x), range(20, 126)))\n",
    "\n",
    "print(charRange)"
   ]
  },
  {
   "cell_type": "code",
   "execution_count": null,
   "metadata": {},
   "outputs": [],
   "source": []
  },
  {
   "cell_type": "code",
   "execution_count": 40,
   "metadata": {},
   "outputs": [
    {
     "name": "stdout",
     "output_type": "stream",
     "text": [
      "\u0015I_d a\u001fNZWm Mt\u001a5\u0019qHh!/^pAe%:\u0017 wR=.-a?clB]rEf2u+\u001d",
      "9s\n",
      "o*I $0J&Cam ythV\u0018e D)zw`\u0016S\u001c",
      "Yag\u001e",
      "XTljnbrQus\n"
     ]
    }
   ],
   "source": [
    "import random\n",
    "\n",
    "s1 = \"\"\n",
    "s2 = \"\"\n",
    "\n",
    "# copy the initial character range into a new set (shallow copy)\n",
    "possibilities = charRange.copy() \n",
    "\n",
    "for char in secret:\n",
    "    \n",
    "    # using discard instead of remove because remove will throw an error if the key doesn't already exist\n",
    "    possibilities.discard(char)\n",
    "    \n",
    "    # add a random character that hasn't been added before. Do it between 0 and 5 times.\n",
    "    for i in range(0, random.randint(0,5)):\n",
    "        filler = random.sample(possibilities, 1)[0]\n",
    "        possibilities.remove(filler)\n",
    "        s1 += filler\n",
    "        \n",
    "    for i in range(0, random.randint(0,5)):\n",
    "        filler = random.sample(possibilities, 1)[0]\n",
    "        possibilities.remove(filler)\n",
    "        s2 += filler\n",
    "        \n",
    "    s1 += char\n",
    "    s2 += char\n",
    "        \n",
    "print(s1)\n",
    "print(s2)"
   ]
  },
  {
   "cell_type": "markdown",
   "metadata": {},
   "source": [
    "Now we create an array that's of dimensions [s1 + 1, s2 + 1]"
   ]
  },
  {
   "cell_type": "code",
   "execution_count": 41,
   "metadata": {},
   "outputs": [],
   "source": [
    "import numpy as np\n",
    "\n",
    "m = len(s1)\n",
    "n = len(s2)\n",
    "\n",
    "x = np.zeros([m + 1, n + 1])"
   ]
  },
  {
   "cell_type": "markdown",
   "metadata": {},
   "source": [
    "Iterate over the strings and count how many times matches have occurred\n"
   ]
  },
  {
   "cell_type": "code",
   "execution_count": 42,
   "metadata": {},
   "outputs": [
    {
     "name": "stdout",
     "output_type": "stream",
     "text": [
      "[[ 0.  0.  0. ...  0.  0.  0.]\n",
      " [ 0.  0.  0. ...  0.  0.  0.]\n",
      " [ 0.  0.  0. ...  1.  1.  1.]\n",
      " ...\n",
      " [ 0.  0.  0. ... 13. 14. 14.]\n",
      " [ 0.  0.  0. ... 13. 14. 14.]\n",
      " [ 0.  0.  0. ... 13. 14. 15.]]\n"
     ]
    }
   ],
   "source": [
    "\n",
    "for i in range(1, m +1): \n",
    "    #print(x[i - 1][j-1])\n",
    "    for j in range(1, n + 1):\n",
    "        if s1[i - 1] == s2[j - 1]:\n",
    "            x[i][j] = 1 + x[i - 1][j - 1]\n",
    "            #print(s1[i])\n",
    "        else:\n",
    "            x[i][j] = max(x[i - 1][j], x[i][j - 1])\n",
    "            \n",
    "print(x)\n",
    "            "
   ]
  },
  {
   "cell_type": "code",
   "execution_count": 43,
   "metadata": {},
   "outputs": [
    {
     "name": "stdout",
     "output_type": "stream",
     "text": [
      "I am the walrus\n"
     ]
    }
   ],
   "source": [
    "i = m\n",
    "j = n\n",
    "\n",
    "reconstruction = ''\n",
    "\n",
    "while i > 0 and j > 0:\n",
    "\n",
    "    x[i][j] += 0.000001\n",
    "    if s1[i - 1] == s2[j-1]:\n",
    "        reconstruction = (s1[i-1]) + reconstruction\n",
    "    if x[i - 1][j] > x[i][j - 1]:\n",
    "        i -= 1\n",
    "    else:\n",
    "        j -= 1\n",
    "\n",
    "print(reconstruction)"
   ]
  }
 ],
 "metadata": {
  "kernelspec": {
   "display_name": "Python 3",
   "language": "python",
   "name": "python3"
  },
  "language_info": {
   "codemirror_mode": {
    "name": "ipython",
    "version": 3
   },
   "file_extension": ".py",
   "mimetype": "text/x-python",
   "name": "python",
   "nbconvert_exporter": "python",
   "pygments_lexer": "ipython3",
   "version": "3.7.0"
  }
 },
 "nbformat": 4,
 "nbformat_minor": 2
}
